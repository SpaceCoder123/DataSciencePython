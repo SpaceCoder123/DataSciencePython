{
 "cells": [
  {
   "cell_type": "markdown",
   "id": "11b38a16",
   "metadata": {},
   "source": [
    "# Pandas :- "
   ]
  },
  {
   "cell_type": "markdown",
   "id": "431d346f",
   "metadata": {},
   "source": [
    "# Series"
   ]
  },
  {
   "cell_type": "markdown",
   "id": "fd895301",
   "metadata": {},
   "source": [
    "Series is an important feature in pandas library which is very simple to numpy arrays, the main differentiating part of this method is that, The variables or values inside the series are joined or paired with labels"
   ]
  },
  {
   "cell_type": "code",
   "execution_count": 1,
   "id": "9fb8ab3e",
   "metadata": {},
   "outputs": [],
   "source": [
    "import numpy as np\n",
    "import pandas as pd"
   ]
  },
  {
   "cell_type": "code",
   "execution_count": 10,
   "id": "58bdc3ba",
   "metadata": {},
   "outputs": [],
   "source": [
    "labels = [\"a\",\"b\",\"c\"]\n",
    "my_data = [10,20,30]\n",
    "arr = np.array(labels)\n",
    "d = {\"a\":10,\"d\":20,\"c\":30}"
   ]
  },
  {
   "cell_type": "code",
   "execution_count": 7,
   "id": "b33b3581",
   "metadata": {},
   "outputs": [
    {
     "data": {
      "text/plain": [
       "0    10\n",
       "1    20\n",
       "2    30\n",
       "dtype: int64"
      ]
     },
     "execution_count": 7,
     "metadata": {},
     "output_type": "execute_result"
    }
   ],
   "source": [
    "pd.Series(data = my_data)"
   ]
  },
  {
   "cell_type": "code",
   "execution_count": 11,
   "id": "eea3d4de",
   "metadata": {},
   "outputs": [
    {
     "data": {
      "text/plain": [
       "a    10\n",
       "b    20\n",
       "c    30\n",
       "dtype: int64"
      ]
     },
     "execution_count": 11,
     "metadata": {},
     "output_type": "execute_result"
    }
   ],
   "source": [
    "pd.Series(data = my_data, index = labels) #changing labels using another array"
   ]
  },
  {
   "cell_type": "code",
   "execution_count": 12,
   "id": "a12bed63",
   "metadata": {},
   "outputs": [
    {
     "data": {
      "text/plain": [
       "0    a\n",
       "1    b\n",
       "2    c\n",
       "dtype: object"
      ]
     },
     "execution_count": 12,
     "metadata": {},
     "output_type": "execute_result"
    }
   ],
   "source": [
    "pd.Series(arr) # adding numpy array into series"
   ]
  },
  {
   "cell_type": "code",
   "execution_count": 14,
   "id": "e686da06",
   "metadata": {},
   "outputs": [
    {
     "data": {
      "text/plain": [
       "a    10\n",
       "d    20\n",
       "c    30\n",
       "dtype: int64"
      ]
     },
     "execution_count": 14,
     "metadata": {},
     "output_type": "execute_result"
    }
   ],
   "source": [
    "pd.Series(d) # adding dictionaries into series"
   ]
  },
  {
   "cell_type": "code",
   "execution_count": 15,
   "id": "3a7685cb",
   "metadata": {},
   "outputs": [
    {
     "data": {
      "text/plain": [
       "0    a\n",
       "1    b\n",
       "2    c\n",
       "dtype: object"
      ]
     },
     "execution_count": 15,
     "metadata": {},
     "output_type": "execute_result"
    }
   ],
   "source": [
    "pd.Series(data = labels)"
   ]
  },
  {
   "cell_type": "code",
   "execution_count": 17,
   "id": "cc92e5ba",
   "metadata": {},
   "outputs": [
    {
     "data": {
      "text/plain": [
       "0      <built-in function sum>\n",
       "1    <built-in function print>\n",
       "2      <built-in function len>\n",
       "dtype: object"
      ]
     },
     "execution_count": 17,
     "metadata": {},
     "output_type": "execute_result"
    }
   ],
   "source": [
    "pd.Series(data = [sum,print,len]) # holding built-in functions inside a series"
   ]
  },
  {
   "cell_type": "code",
   "execution_count": 19,
   "id": "64d102ea",
   "metadata": {},
   "outputs": [],
   "source": [
    "ser1 = pd.Series([1,2,3,4],[\"USA\",\"GER\",\"USSR\",\"JPN\"])"
   ]
  },
  {
   "cell_type": "code",
   "execution_count": 20,
   "id": "21044a06",
   "metadata": {},
   "outputs": [
    {
     "data": {
      "text/plain": [
       "USA     1\n",
       "GER     2\n",
       "USSR    3\n",
       "JPN     4\n",
       "dtype: int64"
      ]
     },
     "execution_count": 20,
     "metadata": {},
     "output_type": "execute_result"
    }
   ],
   "source": [
    "ser1"
   ]
  },
  {
   "cell_type": "code",
   "execution_count": 21,
   "id": "3f79dae6",
   "metadata": {},
   "outputs": [
    {
     "data": {
      "text/plain": [
       "USA    1\n",
       "GER    2\n",
       "ITL    3\n",
       "JPN    4\n",
       "dtype: int64"
      ]
     },
     "execution_count": 21,
     "metadata": {},
     "output_type": "execute_result"
    }
   ],
   "source": [
    "ser2 = pd.Series([1,2,3,4],['USA','GER','ITL','JPN'])\n",
    "ser2"
   ]
  },
  {
   "cell_type": "markdown",
   "id": "7e228572",
   "metadata": {},
   "source": [
    "# Accessing data from a series"
   ]
  },
  {
   "cell_type": "code",
   "execution_count": 27,
   "id": "151e9592",
   "metadata": {},
   "outputs": [
    {
     "data": {
      "text/plain": [
       "3"
      ]
     },
     "execution_count": 27,
     "metadata": {},
     "output_type": "execute_result"
    }
   ],
   "source": [
    "ser2[2] #accessing the index in the series\n",
    "ser2['ITL']"
   ]
  },
  {
   "cell_type": "code",
   "execution_count": 31,
   "id": "f6175753",
   "metadata": {},
   "outputs": [
    {
     "data": {
      "text/plain": [
       "'a'"
      ]
     },
     "execution_count": 31,
     "metadata": {},
     "output_type": "execute_result"
    }
   ],
   "source": [
    "ser3 = pd.Series(data = labels)\n",
    "ser3[0]"
   ]
  },
  {
   "cell_type": "code",
   "execution_count": 41,
   "id": "74f90166",
   "metadata": {},
   "outputs": [
    {
     "name": "stdout",
     "output_type": "stream",
     "text": [
      "RangeIndex(start=0, stop=3, step=1)\n"
     ]
    }
   ],
   "source": [
    "print(ser3.keys())"
   ]
  },
  {
   "cell_type": "markdown",
   "id": "89a39c3d",
   "metadata": {},
   "source": [
    "# Adding two series"
   ]
  },
  {
   "cell_type": "code",
   "execution_count": 34,
   "id": "0d4dae90",
   "metadata": {},
   "outputs": [
    {
     "data": {
      "text/plain": [
       "GER     4.0\n",
       "ITL     NaN\n",
       "JPN     8.0\n",
       "USA     2.0\n",
       "USSR    NaN\n",
       "dtype: float64"
      ]
     },
     "execution_count": 34,
     "metadata": {},
     "output_type": "execute_result"
    }
   ],
   "source": [
    "ser4 = ser1 + ser2\n",
    "ser4"
   ]
  },
  {
   "cell_type": "markdown",
   "id": "dd4023ca",
   "metadata": {},
   "source": [
    "The addition or subtraction operation within two series is as follows,\n",
    "The interpretor will try to match the labels, \n",
    "1. If the labels match and are present within the two series, then it will sum it up and store it in float, since it is easy to recover the data, same goes to numpy array, \n",
    "2. If its not found in the other series, then it will return NaN object"
   ]
  }
 ],
 "metadata": {
  "kernelspec": {
   "display_name": "Python 3 (ipykernel)",
   "language": "python",
   "name": "python3"
  },
  "language_info": {
   "codemirror_mode": {
    "name": "ipython",
    "version": 3
   },
   "file_extension": ".py",
   "mimetype": "text/x-python",
   "name": "python",
   "nbconvert_exporter": "python",
   "pygments_lexer": "ipython3",
   "version": "3.9.7"
  }
 },
 "nbformat": 4,
 "nbformat_minor": 5
}
