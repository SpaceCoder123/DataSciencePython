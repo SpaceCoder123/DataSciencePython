{
 "cells": [
  {
   "cell_type": "code",
   "execution_count": 3,
   "id": "84bdc111",
   "metadata": {},
   "outputs": [
    {
     "name": "stdout",
     "output_type": "stream",
     "text": [
      "['1', 'dog', 'cat', 'True']\n",
      "<class 'list'>\n"
     ]
    }
   ],
   "source": [
    "# create a list wuth random strings\n",
    "list1 = [\"1\",\"dog\",\"cat\",\"True\"]\n",
    "print(list1)\n",
    "print(type(list1))"
   ]
  },
  {
   "cell_type": "code",
   "execution_count": 5,
   "id": "9080fab0",
   "metadata": {},
   "outputs": [
    {
     "name": "stdout",
     "output_type": "stream",
     "text": [
      "4\n"
     ]
    }
   ],
   "source": [
    "#get the length of the list\n",
    "length = (len(list1))\n",
    "print(length)"
   ]
  },
  {
   "cell_type": "code",
   "execution_count": 7,
   "id": "1fd53a17",
   "metadata": {},
   "outputs": [
    {
     "name": "stdout",
     "output_type": "stream",
     "text": [
      "dog\n"
     ]
    }
   ],
   "source": [
    "#get items in the list\n",
    "item = list1[1]\n",
    "print(item)"
   ]
  },
  {
   "cell_type": "code",
   "execution_count": 9,
   "id": "b00e2844",
   "metadata": {},
   "outputs": [
    {
     "ename": "IndexError",
     "evalue": "list index out of range",
     "output_type": "error",
     "traceback": [
      "\u001b[1;31m---------------------------------------------------------------------------\u001b[0m",
      "\u001b[1;31mIndexError\u001b[0m                                Traceback (most recent call last)",
      "Input \u001b[1;32mIn [9]\u001b[0m, in \u001b[0;36m<module>\u001b[1;34m\u001b[0m\n\u001b[1;32m----> 1\u001b[0m item \u001b[38;5;241m=\u001b[39m \u001b[43mlist1\u001b[49m\u001b[43m[\u001b[49m\u001b[38;5;241;43m5\u001b[39;49m\u001b[43m]\u001b[49m\n\u001b[0;32m      2\u001b[0m \u001b[38;5;28mprint\u001b[39m(item)\n",
      "\u001b[1;31mIndexError\u001b[0m: list index out of range"
     ]
    }
   ],
   "source": [
    "item = list1[5]\n",
    "print(item)\n",
    "#returns out of range"
   ]
  },
  {
   "cell_type": "code",
   "execution_count": 12,
   "id": "51375bc1",
   "metadata": {},
   "outputs": [
    {
     "name": "stdout",
     "output_type": "stream",
     "text": [
      "['hello', 'hello1', 'hello2', 'hello3']\n"
     ]
    }
   ],
   "source": [
    "# add items in the list \n",
    "list2 = []\n",
    "list2.append(\"hello\")\n",
    "list2.append(\"hello1\")\n",
    "list2.append(\"hello2\")\n",
    "list2.append(\"hello3\")\n",
    "print(list2)"
   ]
  },
  {
   "cell_type": "code",
   "execution_count": 13,
   "id": "29660384",
   "metadata": {},
   "outputs": [
    {
     "name": "stdout",
     "output_type": "stream",
     "text": [
      "['hello', 'hello1', 'hello2']\n"
     ]
    }
   ],
   "source": [
    "#removes the last item from the list\n",
    "list2.pop()\n",
    "print(list2)\n",
    "#returns empty list"
   ]
  },
  {
   "cell_type": "code",
   "execution_count": 15,
   "id": "f3a2fa19",
   "metadata": {},
   "outputs": [
    {
     "name": "stdout",
     "output_type": "stream",
     "text": [
      "True\n",
      "False\n"
     ]
    }
   ],
   "source": [
    "#check if an item is present in the list\n",
    "print('dog' in list1)\n",
    "print(\"hello3\" in list2)\n",
    "#returns a boolean value"
   ]
  },
  {
   "cell_type": "code",
   "execution_count": null,
   "id": "d12c5da7",
   "metadata": {},
   "outputs": [],
   "source": []
  }
 ],
 "metadata": {
  "kernelspec": {
   "display_name": "Python 3 (ipykernel)",
   "language": "python",
   "name": "python3"
  },
  "language_info": {
   "codemirror_mode": {
    "name": "ipython",
    "version": 3
   },
   "file_extension": ".py",
   "mimetype": "text/x-python",
   "name": "python",
   "nbconvert_exporter": "python",
   "pygments_lexer": "ipython3",
   "version": "3.10.2"
  }
 },
 "nbformat": 4,
 "nbformat_minor": 5
}
