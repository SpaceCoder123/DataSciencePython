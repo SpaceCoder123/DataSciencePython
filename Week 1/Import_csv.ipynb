{
 "cells": [
  {
   "cell_type": "code",
   "execution_count": 1,
   "id": "07d37b8d",
   "metadata": {},
   "outputs": [],
   "source": [
    "import csv"
   ]
  },
  {
   "cell_type": "code",
   "execution_count": 3,
   "id": "f01e39d7",
   "metadata": {},
   "outputs": [],
   "source": [
    "file = open('D:\\College Files\\PythonDataScience\\Mod_1Code&Data_Files/albumlist.csv',\"r\")"
   ]
  },
  {
   "cell_type": "code",
   "execution_count": 7,
   "id": "e1001934",
   "metadata": {},
   "outputs": [],
   "source": [
    "file.close()"
   ]
  },
  {
   "cell_type": "code",
   "execution_count": 9,
   "id": "06427334",
   "metadata": {},
   "outputs": [],
   "source": [
    "import csv \n",
    "with open('D:\\College Files\\PythonDataScience\\Mod_1Code&Data_Files/albumlist.csv',\"r\") as csvfile:\n",
    "    reader = csv.DictReader(csvfile)\n",
    "    # the with statement will take are of opening and closing to the user\n",
    "    "
   ]
  },
  {
   "cell_type": "code",
   "execution_count": null,
   "id": "67842cf5",
   "metadata": {},
   "outputs": [],
   "source": []
  }
 ],
 "metadata": {
  "kernelspec": {
   "display_name": "Python 3 (ipykernel)",
   "language": "python",
   "name": "python3"
  },
  "language_info": {
   "codemirror_mode": {
    "name": "ipython",
    "version": 3
   },
   "file_extension": ".py",
   "mimetype": "text/x-python",
   "name": "python",
   "nbconvert_exporter": "python",
   "pygments_lexer": "ipython3",
   "version": "3.10.2"
  }
 },
 "nbformat": 4,
 "nbformat_minor": 5
}
