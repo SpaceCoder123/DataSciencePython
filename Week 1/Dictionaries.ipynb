{
 "cells": [
  {
   "cell_type": "code",
   "execution_count": 1,
   "id": "f8fa850f",
   "metadata": {},
   "outputs": [],
   "source": [
    "person = {\"name\":\"Zayn\",\"age\":32,\"height\":6*12+2}\n",
    "\n",
    "#declaring a dictionary"
   ]
  },
  {
   "cell_type": "code",
   "execution_count": 2,
   "id": "b2220402",
   "metadata": {},
   "outputs": [
    {
     "name": "stdout",
     "output_type": "stream",
     "text": [
      "<class 'dict'>\n"
     ]
    }
   ],
   "source": [
    "# determing the data type of the person variable\n",
    "print(type(person))"
   ]
  },
  {
   "cell_type": "code",
   "execution_count": 3,
   "id": "971720c6",
   "metadata": {},
   "outputs": [
    {
     "name": "stdout",
     "output_type": "stream",
     "text": [
      "Zayn\n"
     ]
    }
   ],
   "source": [
    "#getting the value using the given suitable key\n",
    "print(person['name'])"
   ]
  },
  {
   "cell_type": "code",
   "execution_count": 4,
   "id": "97e8a6df",
   "metadata": {},
   "outputs": [
    {
     "name": "stdout",
     "output_type": "stream",
     "text": [
      "Zayn\n"
     ]
    }
   ],
   "source": [
    "#using a built in method \n",
    "print(person.get('name'))\n",
    "#returs a value of the given key declared in the braces "
   ]
  },
  {
   "cell_type": "code",
   "execution_count": 5,
   "id": "e3369972",
   "metadata": {},
   "outputs": [
    {
     "ename": "KeyError",
     "evalue": "'state'",
     "output_type": "error",
     "traceback": [
      "\u001b[1;31m---------------------------------------------------------------------------\u001b[0m",
      "\u001b[1;31mKeyError\u001b[0m                                  Traceback (most recent call last)",
      "Input \u001b[1;32mIn [5]\u001b[0m, in \u001b[0;36m<module>\u001b[1;34m\u001b[0m\n\u001b[0;32m      1\u001b[0m \u001b[38;5;66;03m# Errors \u001b[39;00m\n\u001b[1;32m----> 2\u001b[0m \u001b[38;5;28mprint\u001b[39m(\u001b[43mperson\u001b[49m\u001b[43m[\u001b[49m\u001b[38;5;124;43m'\u001b[39;49m\u001b[38;5;124;43mstate\u001b[39;49m\u001b[38;5;124;43m'\u001b[39;49m\u001b[43m]\u001b[49m)\n",
      "\u001b[1;31mKeyError\u001b[0m: 'state'"
     ]
    }
   ],
   "source": [
    "# Errors \n",
    "print(person['state'])\n",
    "#returns KeyError"
   ]
  },
  {
   "cell_type": "code",
   "execution_count": 6,
   "id": "c989deac",
   "metadata": {},
   "outputs": [
    {
     "name": "stdout",
     "output_type": "stream",
     "text": [
      "None\n"
     ]
    }
   ],
   "source": [
    "print(person.get('state'))\n",
    "#returns None if built in statement is used"
   ]
  },
  {
   "cell_type": "code",
   "execution_count": 8,
   "id": "d2428791",
   "metadata": {},
   "outputs": [
    {
     "name": "stdout",
     "output_type": "stream",
     "text": [
      "74\n"
     ]
    }
   ],
   "source": [
    "print(person.get('height','pa'))\n",
    "#returns default value if \"state\" is not defined, if its already defined then it will not overwrite"
   ]
  },
  {
   "cell_type": "code",
   "execution_count": 3,
   "id": "64a6604f",
   "metadata": {},
   "outputs": [
    {
     "name": "stdout",
     "output_type": "stream",
     "text": [
      "{'name': 'mohan', 'college': 'MSRUAS', 'age': 19}\n"
     ]
    }
   ],
   "source": [
    "# dictionaries are mutable and therefore can be altered\n",
    "#declare the dictionary object\n",
    "person1={}\n",
    "\n",
    "#dict_name[\"key\"]= \"value\"\n",
    "\n",
    "person1['name']= 'mohan'\n",
    "person1['college']= 'MSRUAS'\n",
    "person1['age']= 18\n",
    "person1['age']+= 1\n",
    "print(person1)"
   ]
  },
  {
   "cell_type": "code",
   "execution_count": 5,
   "id": "ebcbd8a1",
   "metadata": {},
   "outputs": [
    {
     "name": "stdout",
     "output_type": "stream",
     "text": [
      "True\n"
     ]
    }
   ],
   "source": [
    "# to check if the key exists\n",
    "print(\"name\" in person1) #returns a boolean\n"
   ]
  },
  {
   "cell_type": "code",
   "execution_count": 11,
   "id": "8ad59479",
   "metadata": {},
   "outputs": [
    {
     "name": "stdout",
     "output_type": "stream",
     "text": [
      "{'name': 'mohan', 'age': 19, 'siblings': ['pavan', 'hamsa']}\n"
     ]
    }
   ],
   "source": [
    "# adding lists into dictionaries\n",
    "person1[\"siblings\"]= [\"pavan\"]\n",
    "person1[\"siblings\"].append('hamsa')\n",
    "print(person1)"
   ]
  },
  {
   "cell_type": "code",
   "execution_count": 12,
   "id": "fe1635ac",
   "metadata": {},
   "outputs": [
    {
     "name": "stdout",
     "output_type": "stream",
     "text": [
      "{'name': 'mohan', 'age': 19, 'siblings': ['pavan', 'hamsa'], 'marital status': 'yes', 'children': 3}\n"
     ]
    }
   ],
   "source": [
    "#adding two dictionaries and combining or updating\n",
    "\n",
    "person_Attributes = {}\n",
    "person_Attributes['marital status']= 'yes'\n",
    "person_Attributes['children']= 3\n",
    "person1.update(person_Attributes)\n",
    "print(person1)"
   ]
  },
  {
   "cell_type": "code",
   "execution_count": 15,
   "id": "cc104161",
   "metadata": {},
   "outputs": [
    {
     "name": "stdout",
     "output_type": "stream",
     "text": [
      "<class 'zip'>\n",
      "{'Joey': 31, 'Rachel': 30, 'Ross': 32}\n"
     ]
    }
   ],
   "source": [
    "#other ways of creating dictionary using lists\n",
    "\n",
    "names = ['Joey','Rachel','Ross']\n",
    "age = [31,30,32]\n",
    "people = zip(names, age)\n",
    "print(type(people)) #type is a zip\n",
    "\n",
    "#convert zip into dictionary\n",
    "kids = dict(people)\n",
    "print(kids)"
   ]
  },
  {
   "cell_type": "code",
   "execution_count": 17,
   "id": "cff08cf5",
   "metadata": {},
   "outputs": [
    {
     "name": "stdout",
     "output_type": "stream",
     "text": [
      "{'CIT590': 'Introduction to python Programming', 'CIS545': 'Bigdata'}\n"
     ]
    }
   ],
   "source": [
    "#creating dictionaries in other ways\n",
    "\n",
    "courses = {}\n",
    "courses['CIT590'] = \"Introduction to python Programming\"\n",
    "courses.update({'CIS545':\"Bigdata\"})\n",
    "print(courses)\n"
   ]
  },
  {
   "cell_type": "code",
   "execution_count": 20,
   "id": "466f5357",
   "metadata": {},
   "outputs": [
    {
     "name": "stdout",
     "output_type": "stream",
     "text": [
      "{1: 'uno', 2: 'dos', 3: 'tres'}\n"
     ]
    }
   ],
   "source": [
    "#create a dictionary using tuples\n",
    "#create a tuple, add it to common list and convert it to dictionary function\n",
    "translation = dict([(1,'uno'),(2,\"dos\"),(3,\"tres\")])\n",
    "print(translation)"
   ]
  },
  {
   "cell_type": "code",
   "execution_count": null,
   "id": "3eb74333",
   "metadata": {},
   "outputs": [],
   "source": []
  }
 ],
 "metadata": {
  "kernelspec": {
   "display_name": "Python 3 (ipykernel)",
   "language": "python",
   "name": "python3"
  },
  "language_info": {
   "codemirror_mode": {
    "name": "ipython",
    "version": 3
   },
   "file_extension": ".py",
   "mimetype": "text/x-python",
   "name": "python",
   "nbconvert_exporter": "python",
   "pygments_lexer": "ipython3",
   "version": "3.10.2"
  }
 },
 "nbformat": 4,
 "nbformat_minor": 5
}
