{
 "cells": [
  {
   "cell_type": "code",
   "execution_count": 1,
   "id": "593eaa7c",
   "metadata": {},
   "outputs": [
    {
     "name": "stdout",
     "output_type": "stream",
     "text": [
      "1\n",
      "2\n",
      "3\n",
      "45\n",
      "5\n",
      "7\n"
     ]
    }
   ],
   "source": [
    "# for loop\n",
    "# it execetues the given number of codes multiple times\n",
    "\n",
    "numbers = [1,2,3,45,5,7]\n",
    "for number in numbers:\n",
    "    print(number)\n",
    "\n",
    "# the 'for' indicated the type of loop and the number is a dummy variable in which it referes to the list that is assinged"
   ]
  },
  {
   "cell_type": "code",
   "execution_count": 22,
   "id": "4cf83561",
   "metadata": {},
   "outputs": [
    {
     "name": "stdout",
     "output_type": "stream",
     "text": [
      "{2: 'even', 4: 'even', 3: 'odd', 67: 'odd', 54: 'even', 33: 'odd', 11: 'odd', 100: 'even', 0: 'even'}\n"
     ]
    }
   ],
   "source": [
    "#checking if a numebr is even or not\n",
    "numbers2= [2,4,3,67,54,33,11,100,0]\n",
    "status = [] #updates whether the number is even or not\n",
    "even_numbers = []\n",
    "odd_numbers = []\n",
    "for number in numbers2:\n",
    "    if(number%2==0):\n",
    "        #rint(number,\" is even\")\n",
    "        even_numbers.append(number)\n",
    "        stat= \"even\"\n",
    "        status.append(stat)\n",
    "        #stat = \"\"\n",
    "        \n",
    "    else:\n",
    "       #print(number,\" is odd\")\n",
    "        odd_numbers.append(number)\n",
    "        stat=\"odd\"\n",
    "        status.append(stat)\n",
    "        #stat = \"\"\n",
    "        \n",
    "        \n",
    "valdict = zip(numbers2,status)\n",
    "numbers_Dict = dict(valdict)\n",
    "        \n",
    "print(numbers_Dict)\n",
    "\n",
    "# note 0 is considered even"
   ]
  },
  {
   "cell_type": "code",
   "execution_count": 13,
   "id": "40bb6f46",
   "metadata": {},
   "outputs": [
    {
     "name": "stdout",
     "output_type": "stream",
     "text": [
      "Sun is not planet\n",
      "Mercury is a planet\n",
      "Mercury is the closest to the sun\n",
      "Earth is a planet\n",
      "Mars is a planet\n",
      "Jupiter is a planet\n"
     ]
    }
   ],
   "source": [
    "#iterate over a list of strings\n",
    "\n",
    "planets = [\"Sun\",\"Mercury\",\"Earth\",\"Mars\",\"Jupiter\"]\n",
    "for planet in planets:\n",
    "    if(planet==\"Sun\"):\n",
    "        print(planet, \"is not planet\")\n",
    "    else:\n",
    "        print(planet, \"is a planet\")\n",
    "        \n",
    "    if(planet==\"Mercury\"):\n",
    "        print(planet, \"is the closest to the sun\")\n"
   ]
  },
  {
   "cell_type": "code",
   "execution_count": 17,
   "id": "32c8a7ab",
   "metadata": {},
   "outputs": [
    {
     "name": "stdout",
     "output_type": "stream",
     "text": [
      "h\n",
      "a\n",
      "l\n",
      "l\n",
      "u\n",
      "c\n",
      "i\n",
      "n\n",
      "a\n",
      "t\n",
      "e\n"
     ]
    }
   ],
   "source": [
    "#iterate over a string itself\n",
    "word = \"hallucinate\"\n",
    "word_list = list(word) # converts a string into a list \n",
    "#print(word_list)\n",
    "for letter in word:\n",
    "    print(letter)"
   ]
  },
  {
   "cell_type": "code",
   "execution_count": 20,
   "id": "df0ed9c8",
   "metadata": {},
   "outputs": [
    {
     "name": "stdout",
     "output_type": "stream",
     "text": [
      "start_num is now 1\n",
      "start_num is now 2\n",
      "start_num is now 3\n",
      "start_num is now 4\n"
     ]
    }
   ],
   "source": [
    "#breaking a loop\n",
    "start_num = 1\n",
    "while start_num<=10:\n",
    "    if (start_num == 5):\n",
    "        break # this exists the entire loop\n",
    "    print(\"start_num is now\", start_num)\n",
    "    start_num+=1"
   ]
  },
  {
   "cell_type": "code",
   "execution_count": 21,
   "id": "a2090e22",
   "metadata": {},
   "outputs": [
    {
     "name": "stdout",
     "output_type": "stream",
     "text": [
      "1\n",
      "5\n",
      "7\n",
      "11\n",
      "13\n",
      "17\n",
      "19\n"
     ]
    }
   ],
   "source": [
    "#exit a loop using continue\n",
    "\n",
    "# continue changes the flow of control and exits the current loop only\n",
    "\n",
    "for number in range(1,21):\n",
    "    if (number%2 !=0): #checks if its even or odd \n",
    "        if (number%3 == 0): # checks if the number is divisible by 3, if it is then it skips the printing of that number\n",
    "            \n",
    "            continue\n",
    "        print(number)"
   ]
  },
  {
   "cell_type": "code",
   "execution_count": null,
   "id": "207d7d2f",
   "metadata": {},
   "outputs": [],
   "source": []
  }
 ],
 "metadata": {
  "kernelspec": {
   "display_name": "Python 3 (ipykernel)",
   "language": "python",
   "name": "python3"
  },
  "language_info": {
   "codemirror_mode": {
    "name": "ipython",
    "version": 3
   },
   "file_extension": ".py",
   "mimetype": "text/x-python",
   "name": "python",
   "nbconvert_exporter": "python",
   "pygments_lexer": "ipython3",
   "version": "3.10.2"
  }
 },
 "nbformat": 4,
 "nbformat_minor": 5
}
