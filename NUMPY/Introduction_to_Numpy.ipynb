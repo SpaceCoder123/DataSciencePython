{
 "cells": [
  {
   "cell_type": "markdown",
   "id": "c27fcfa6",
   "metadata": {},
   "source": [
    "NumPy is a linear algebra library in Python, the reaso nwhy it is important for Data Science with Python is that almost all of the libraries in the PyData Ecosystem rely on NumPy as one of thier main building blocks"
   ]
  },
  {
   "cell_type": "code",
   "execution_count": 1,
   "id": "f315a0d6",
   "metadata": {},
   "outputs": [],
   "source": [
    "import numpy as np"
   ]
  },
  {
   "cell_type": "markdown",
   "id": "73095888",
   "metadata": {},
   "source": [
    "# Numpy Arrays"
   ]
  },
  {
   "cell_type": "code",
   "execution_count": 2,
   "id": "731697f5",
   "metadata": {},
   "outputs": [],
   "source": [
    "my_list = [1,2,3]"
   ]
  },
  {
   "cell_type": "code",
   "execution_count": 4,
   "id": "3e79437c",
   "metadata": {},
   "outputs": [
    {
     "data": {
      "text/plain": [
       "array([1, 2, 3])"
      ]
     },
     "execution_count": 4,
     "metadata": {},
     "output_type": "execute_result"
    }
   ],
   "source": [
    "np.array(my_list)"
   ]
  },
  {
   "cell_type": "code",
   "execution_count": 6,
   "id": "d2a14631",
   "metadata": {},
   "outputs": [
    {
     "data": {
      "text/plain": [
       "array([[1, 2, 3],\n",
       "       [4, 5, 6],\n",
       "       [7, 8, 9]])"
      ]
     },
     "execution_count": 6,
     "metadata": {},
     "output_type": "execute_result"
    }
   ],
   "source": [
    "my_mat = [[1,2,3],[4,5,6],[7,8,9]]\n",
    "np.array(my_mat)"
   ]
  },
  {
   "cell_type": "code",
   "execution_count": 8,
   "id": "bbbe3661",
   "metadata": {},
   "outputs": [
    {
     "data": {
      "text/plain": [
       "array([0, 2, 4, 6, 8])"
      ]
     },
     "execution_count": 8,
     "metadata": {},
     "output_type": "execute_result"
    }
   ],
   "source": [
    "randlist = np.arange(0,10,2) # first number, last number , step size\n",
    "randlist # returns an array within the range of numbers"
   ]
  },
  {
   "cell_type": "code",
   "execution_count": 13,
   "id": "9a1d6436",
   "metadata": {},
   "outputs": [
    {
     "data": {
      "text/plain": [
       "array([0., 0., 0., 0.])"
      ]
     },
     "execution_count": 13,
     "metadata": {},
     "output_type": "execute_result"
    }
   ],
   "source": [
    "# generate a numpy array of zeroes\n",
    "zeroes_1d = np.zeros(4)\n",
    "zeroes_1d"
   ]
  },
  {
   "cell_type": "code",
   "execution_count": 17,
   "id": "f6b967fb",
   "metadata": {},
   "outputs": [
    {
     "data": {
      "text/plain": [
       "array([[0., 0., 0., 0.],\n",
       "       [0., 0., 0., 0.],\n",
       "       [0., 0., 0., 0.],\n",
       "       [0., 0., 0., 0.]])"
      ]
     },
     "execution_count": 17,
     "metadata": {},
     "output_type": "execute_result"
    }
   ],
   "source": [
    "zeroes_2d = np.zeros((4,4))\n",
    "zeroes_2d"
   ]
  },
  {
   "cell_type": "code",
   "execution_count": 18,
   "id": "0b165e8a",
   "metadata": {},
   "outputs": [
    {
     "data": {
      "text/plain": [
       "array([1., 1., 1., 1., 1.])"
      ]
     },
     "execution_count": 18,
     "metadata": {},
     "output_type": "execute_result"
    }
   ],
   "source": [
    "ones_1d = np.ones(5)\n",
    "ones_1d"
   ]
  },
  {
   "cell_type": "code",
   "execution_count": 19,
   "id": "7d7e7707",
   "metadata": {},
   "outputs": [
    {
     "data": {
      "text/plain": [
       "array([[1., 1., 1., 1., 1.],\n",
       "       [1., 1., 1., 1., 1.],\n",
       "       [1., 1., 1., 1., 1.],\n",
       "       [1., 1., 1., 1., 1.],\n",
       "       [1., 1., 1., 1., 1.]])"
      ]
     },
     "execution_count": 19,
     "metadata": {},
     "output_type": "execute_result"
    }
   ],
   "source": [
    "ones_2d = np.ones((5,5))\n",
    "ones_2d"
   ]
  },
  {
   "cell_type": "markdown",
   "id": "52ae7660",
   "metadata": {},
   "source": [
    "# Linspace"
   ]
  },
  {
   "cell_type": "markdown",
   "id": "ce923410",
   "metadata": {},
   "source": [
    "Linspace should not be compared with arange since linspace considers the number of points within the given range of numbers"
   ]
  },
  {
   "cell_type": "code",
   "execution_count": 21,
   "id": "6236a906",
   "metadata": {},
   "outputs": [
    {
     "data": {
      "text/plain": [
       "array([  2.        ,   5.37931034,   8.75862069,  12.13793103,\n",
       "        15.51724138,  18.89655172,  22.27586207,  25.65517241,\n",
       "        29.03448276,  32.4137931 ,  35.79310345,  39.17241379,\n",
       "        42.55172414,  45.93103448,  49.31034483,  52.68965517,\n",
       "        56.06896552,  59.44827586,  62.82758621,  66.20689655,\n",
       "        69.5862069 ,  72.96551724,  76.34482759,  79.72413793,\n",
       "        83.10344828,  86.48275862,  89.86206897,  93.24137931,\n",
       "        96.62068966, 100.        ])"
      ]
     },
     "execution_count": 21,
     "metadata": {},
     "output_type": "execute_result"
    }
   ],
   "source": [
    "lins = np.linspace(2,100,30)\n",
    "lins # returns 1D array"
   ]
  },
  {
   "cell_type": "markdown",
   "id": "d30f17b7",
   "metadata": {},
   "source": [
    "# Identity Matrix"
   ]
  },
  {
   "cell_type": "code",
   "execution_count": 23,
   "id": "2b3a21e8",
   "metadata": {},
   "outputs": [
    {
     "data": {
      "text/plain": [
       "array([[1., 0., 0.],\n",
       "       [0., 1., 0.],\n",
       "       [0., 0., 1.]])"
      ]
     },
     "execution_count": 23,
     "metadata": {},
     "output_type": "execute_result"
    }
   ],
   "source": [
    "Identity = np.eye(3)\n",
    "Identity"
   ]
  },
  {
   "cell_type": "markdown",
   "id": "c6230261",
   "metadata": {},
   "source": [
    "# Random numbers array"
   ]
  },
  {
   "cell_type": "code",
   "execution_count": 26,
   "id": "bec6babc",
   "metadata": {},
   "outputs": [
    {
     "data": {
      "text/plain": [
       "array([0.18176455, 0.66043934, 0.64054253, 0.09305599, 0.03686761])"
      ]
     },
     "execution_count": 26,
     "metadata": {},
     "output_type": "execute_result"
    }
   ],
   "source": [
    "random_numbers_1d= np.random.rand(5)\n",
    "random_numbers # returns 1D array"
   ]
  },
  {
   "cell_type": "code",
   "execution_count": 27,
   "id": "6bc3541e",
   "metadata": {},
   "outputs": [
    {
     "data": {
      "text/plain": [
       "array([[0.57063235, 0.83990581, 0.47986016, 0.99836795, 0.04104002],\n",
       "       [0.03183849, 0.30615143, 0.74025816, 0.61899664, 0.78297016],\n",
       "       [0.95905158, 0.99760511, 0.71914944, 0.20962551, 0.88113639],\n",
       "       [0.93270602, 0.42285515, 0.79366614, 0.01684069, 0.52064617],\n",
       "       [0.30283186, 0.31660179, 0.53622229, 0.16778822, 0.91246443]])"
      ]
     },
     "execution_count": 27,
     "metadata": {},
     "output_type": "execute_result"
    }
   ],
   "source": [
    "random_numbers_2d = np.random.rand(5,5)\n",
    "random_numbers_2d"
   ]
  },
  {
   "cell_type": "code",
   "execution_count": null,
   "id": "a9c049bb",
   "metadata": {},
   "outputs": [],
   "source": [
    "rand_int = np.random.randint(1,100,10) \n",
    "#the first two numbers denote the lower value to the highest value any random number selection,\n",
    "#the next arguments denotes the number of elements or numbers to be selected from the range\n",
    "rand_int # returns 1D array"
   ]
  },
  {
   "cell_type": "markdown",
   "id": "cb081550",
   "metadata": {},
   "source": [
    "# Reshape "
   ]
  },
  {
   "cell_type": "code",
   "execution_count": 35,
   "id": "34301d33",
   "metadata": {},
   "outputs": [
    {
     "data": {
      "text/plain": [
       "array([[  2.        ,   5.37931034,   8.75862069],\n",
       "       [ 12.13793103,  15.51724138,  18.89655172],\n",
       "       [ 22.27586207,  25.65517241,  29.03448276],\n",
       "       [ 32.4137931 ,  35.79310345,  39.17241379],\n",
       "       [ 42.55172414,  45.93103448,  49.31034483],\n",
       "       [ 52.68965517,  56.06896552,  59.44827586],\n",
       "       [ 62.82758621,  66.20689655,  69.5862069 ],\n",
       "       [ 72.96551724,  76.34482759,  79.72413793],\n",
       "       [ 83.10344828,  86.48275862,  89.86206897],\n",
       "       [ 93.24137931,  96.62068966, 100.        ]])"
      ]
     },
     "execution_count": 35,
     "metadata": {},
     "output_type": "execute_result"
    }
   ],
   "source": [
    "#lins\n",
    "reshaped_array = lins.reshape(10,3)\n",
    "reshaped_array"
   ]
  },
  {
   "cell_type": "markdown",
   "id": "8433119b",
   "metadata": {},
   "source": [
    "# Max and Min Value and index location of array"
   ]
  },
  {
   "cell_type": "code",
   "execution_count": 37,
   "id": "5ea19c91",
   "metadata": {},
   "outputs": [
    {
     "name": "stdout",
     "output_type": "stream",
     "text": [
      "0.998367948931742\n"
     ]
    }
   ],
   "source": [
    "print(random_numbers_2d.max())"
   ]
  },
  {
   "cell_type": "code",
   "execution_count": 38,
   "id": "6dd24623",
   "metadata": {},
   "outputs": [
    {
     "name": "stdout",
     "output_type": "stream",
     "text": [
      "0.016840690073504083\n"
     ]
    }
   ],
   "source": [
    "print(random_numbers_2d.min())"
   ]
  },
  {
   "cell_type": "code",
   "execution_count": 39,
   "id": "a263c1a7",
   "metadata": {},
   "outputs": [
    {
     "name": "stdout",
     "output_type": "stream",
     "text": [
      "18\n",
      "3\n"
     ]
    }
   ],
   "source": [
    "print(random_numbers_2d.argmin()) # returns index position of minimum value in that array\n",
    "print(random_numbers_2d.argmax()) # returns index position of maximum value in that array"
   ]
  },
  {
   "cell_type": "code",
   "execution_count": 41,
   "id": "c4b0981c",
   "metadata": {},
   "outputs": [
    {
     "data": {
      "text/plain": [
       "(5, 5)"
      ]
     },
     "execution_count": 41,
     "metadata": {},
     "output_type": "execute_result"
    }
   ],
   "source": [
    "random_numbers_2d.shape"
   ]
  },
  {
   "cell_type": "code",
   "execution_count": 42,
   "id": "ed54a38b",
   "metadata": {},
   "outputs": [
    {
     "data": {
      "text/plain": [
       "dtype('float64')"
      ]
     },
     "execution_count": 42,
     "metadata": {},
     "output_type": "execute_result"
    }
   ],
   "source": [
    "# to check the data type of the array\n",
    "random_numbers_2d.dtype"
   ]
  },
  {
   "cell_type": "code",
   "execution_count": null,
   "id": "70b399dc",
   "metadata": {},
   "outputs": [],
   "source": []
  }
 ],
 "metadata": {
  "kernelspec": {
   "display_name": "Python 3 (ipykernel)",
   "language": "python",
   "name": "python3"
  },
  "language_info": {
   "codemirror_mode": {
    "name": "ipython",
    "version": 3
   },
   "file_extension": ".py",
   "mimetype": "text/x-python",
   "name": "python",
   "nbconvert_exporter": "python",
   "pygments_lexer": "ipython3",
   "version": "3.9.7"
  }
 },
 "nbformat": 4,
 "nbformat_minor": 5
}
