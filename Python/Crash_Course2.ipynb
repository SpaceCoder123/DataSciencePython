{
 "cells": [
  {
   "cell_type": "code",
   "execution_count": 11,
   "id": "ec5b46a7",
   "metadata": {},
   "outputs": [
    {
     "name": "stdout",
     "output_type": "stream",
     "text": [
      "[1, 2, 3, 4]\n",
      "1\n",
      "2\n"
     ]
    }
   ],
   "source": [
    "dict1 = {\n",
    "    \"key1\":\"value1\",\n",
    "    \"key0\":123,\n",
    "    \"key2\":[1,2,3,4],\n",
    "    \"kdict\":{1:[1,2,4]}\n",
    "}\n",
    "print(dict1[\"key2\"])\n",
    "list1 = dict1[\"key2\"]\n",
    "print(list1[0])\n",
    "dict_Dict = dict1[\"kdict\"]\n",
    "list_dict_Dict = (dict_Dict[1][1])\n",
    "print(list_dict_Dict)\n"
   ]
  },
  {
   "cell_type": "markdown",
   "id": "4a1ef42a",
   "metadata": {},
   "source": [
    "# Tuple "
   ]
  },
  {
   "cell_type": "code",
   "execution_count": 13,
   "id": "c8694316",
   "metadata": {},
   "outputs": [],
   "source": [
    "tuple1 = (1,2,3)\n",
    "list2 = [1,2,3]\n",
    "#lets try reassigning or changing the value at one index"
   ]
  },
  {
   "cell_type": "code",
   "execution_count": 16,
   "id": "2c00433d",
   "metadata": {},
   "outputs": [
    {
     "data": {
      "text/plain": [
       "['hello', 2, 3]"
      ]
     },
     "execution_count": 16,
     "metadata": {},
     "output_type": "execute_result"
    }
   ],
   "source": [
    "list2[0] = \"hello\"\n",
    "#tuple1[0] = \"hello\" # throws an error that the assignment of the variable is not supported hence,\n",
    "#tuples are immutable\n",
    "list2 \n",
    "#lists are mutable since the orginal value can be changed\n",
    "#tuple1"
   ]
  },
  {
   "cell_type": "code",
   "execution_count": 20,
   "id": "6f071964",
   "metadata": {},
   "outputs": [
    {
     "name": "stdout",
     "output_type": "stream",
     "text": [
      "{1, 2, 3, 4, 5, 6}\n"
     ]
    }
   ],
   "source": [
    "print(set([1,1,1,3,2,2,4,5,6,4,5,5]))\n",
    "#declared it curved braces and returns a set of unique elements in sorted order also\n"
   ]
  },
  {
   "cell_type": "code",
   "execution_count": 24,
   "id": "cd5d3d0b",
   "metadata": {},
   "outputs": [
    {
     "data": {
      "text/plain": [
       "{1, 2, 3, 5}"
      ]
     },
     "execution_count": 24,
     "metadata": {},
     "output_type": "execute_result"
    }
   ],
   "source": [
    "s = {1,2,3}\n",
    "s.add(5)\n",
    "s\n",
    "s.add(5) #ignores it since the value inside it is already present\n",
    "s"
   ]
  },
  {
   "cell_type": "markdown",
   "id": "af7dea8d",
   "metadata": {},
   "source": [
    "# Boolean"
   ]
  },
  {
   "cell_type": "code",
   "execution_count": 25,
   "id": "5e14e4ac",
   "metadata": {},
   "outputs": [
    {
     "data": {
      "text/plain": [
       "True"
      ]
     },
     "execution_count": 25,
     "metadata": {},
     "output_type": "execute_result"
    }
   ],
   "source": [
    "1 == 1"
   ]
  },
  {
   "cell_type": "code",
   "execution_count": 26,
   "id": "e3bad341",
   "metadata": {},
   "outputs": [
    {
     "data": {
      "text/plain": [
       "False"
      ]
     },
     "execution_count": 26,
     "metadata": {},
     "output_type": "execute_result"
    }
   ],
   "source": [
    "1>=3"
   ]
  },
  {
   "cell_type": "code",
   "execution_count": 27,
   "id": "811f65c2",
   "metadata": {},
   "outputs": [
    {
     "ename": "SyntaxError",
     "evalue": "cannot assign to literal (Temp/ipykernel_6544/2394296259.py, line 1)",
     "output_type": "error",
     "traceback": [
      "\u001b[1;36m  File \u001b[1;32m\"C:\\Users\\user\\AppData\\Local\\Temp/ipykernel_6544/2394296259.py\"\u001b[1;36m, line \u001b[1;32m1\u001b[0m\n\u001b[1;33m    1 = 1 # python thinks that you are doing variable assignment and hence returns an error\u001b[0m\n\u001b[1;37m    ^\u001b[0m\n\u001b[1;31mSyntaxError\u001b[0m\u001b[1;31m:\u001b[0m cannot assign to literal\n"
     ]
    }
   ],
   "source": [
    "1 = 1 # python thinks that you are doing variable assignment and hence returns an error\n"
   ]
  },
  {
   "cell_type": "code",
   "execution_count": 28,
   "id": "b0ca343d",
   "metadata": {},
   "outputs": [
    {
     "data": {
      "text/plain": [
       "True"
      ]
     },
     "execution_count": 28,
     "metadata": {},
     "output_type": "execute_result"
    }
   ],
   "source": [
    "1 != 3"
   ]
  },
  {
   "cell_type": "code",
   "execution_count": 29,
   "id": "bab87c75",
   "metadata": {},
   "outputs": [
    {
     "data": {
      "text/plain": [
       "False"
      ]
     },
     "execution_count": 29,
     "metadata": {},
     "output_type": "execute_result"
    }
   ],
   "source": [
    "\"hi\" == \"bye\""
   ]
  },
  {
   "cell_type": "code",
   "execution_count": 30,
   "id": "ca638d96",
   "metadata": {},
   "outputs": [
    {
     "data": {
      "text/plain": [
       "True"
      ]
     },
     "execution_count": 30,
     "metadata": {},
     "output_type": "execute_result"
    }
   ],
   "source": [
    "1 < 2 and 2 < 3  # and operators all has to be true, else its false"
   ]
  },
  {
   "cell_type": "code",
   "execution_count": 31,
   "id": "60e6cdd6",
   "metadata": {},
   "outputs": [
    {
     "data": {
      "text/plain": [
       "False"
      ]
     },
     "execution_count": 31,
     "metadata": {},
     "output_type": "execute_result"
    }
   ],
   "source": [
    "1 < 2 and 2 > 3 "
   ]
  },
  {
   "cell_type": "code",
   "execution_count": 33,
   "id": "0f343765",
   "metadata": {},
   "outputs": [
    {
     "data": {
      "text/plain": [
       "True"
      ]
     },
     "execution_count": 33,
     "metadata": {},
     "output_type": "execute_result"
    }
   ],
   "source": [
    "1>2 or 2<3 # or operator returns true if one of the operand is true "
   ]
  },
  {
   "cell_type": "markdown",
   "id": "5461c67e",
   "metadata": {},
   "source": [
    "# Conditional Statements"
   ]
  },
  {
   "cell_type": "code",
   "execution_count": 34,
   "id": "ffa6a6fd",
   "metadata": {},
   "outputs": [
    {
     "name": "stdout",
     "output_type": "stream",
     "text": [
      "yep\n"
     ]
    }
   ],
   "source": [
    "if 1<2:\n",
    "    # note the condition is true\n",
    "    print(\"yep\")"
   ]
  },
  {
   "cell_type": "code",
   "execution_count": 37,
   "id": "e4863de8",
   "metadata": {},
   "outputs": [
    {
     "name": "stdout",
     "output_type": "stream",
     "text": [
      "perform code\n"
     ]
    }
   ],
   "source": [
    "if True:\n",
    "    print(\"perform code\")"
   ]
  },
  {
   "cell_type": "code",
   "execution_count": 40,
   "id": "a67a21b4",
   "metadata": {},
   "outputs": [
    {
     "name": "stdout",
     "output_type": "stream",
     "text": [
      "Middle\n"
     ]
    }
   ],
   "source": [
    "if (1=2):\n",
    "    print(\"First\")\n",
    "elif (3 == 3):\n",
    "    print(\"Middle\")\n",
    "else:\n",
    "    print(\"Last\")"
   ]
  }
 ],
 "metadata": {
  "kernelspec": {
   "display_name": "Python 3 (ipykernel)",
   "language": "python",
   "name": "python3"
  },
  "language_info": {
   "codemirror_mode": {
    "name": "ipython",
    "version": 3
   },
   "file_extension": ".py",
   "mimetype": "text/x-python",
   "name": "python",
   "nbconvert_exporter": "python",
   "pygments_lexer": "ipython3",
   "version": "3.9.7"
  }
 },
 "nbformat": 4,
 "nbformat_minor": 5
}
