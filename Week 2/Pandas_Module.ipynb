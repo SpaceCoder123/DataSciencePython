{
 "cells": [
  {
   "cell_type": "code",
   "execution_count": 3,
   "id": "8b856cec",
   "metadata": {},
   "outputs": [
    {
     "name": "stderr",
     "output_type": "stream",
     "text": [
      "C:\\Users\\user\\AppData\\Roaming\\Python\\Python310\\site-packages\\openpyxl\\worksheet\\_reader.py:312: UserWarning: Unknown extension is not supported and will be removed\n",
      "  warn(msg)\n"
     ]
    },
    {
     "data": {
      "text/html": [
       "<div>\n",
       "<style scoped>\n",
       "    .dataframe tbody tr th:only-of-type {\n",
       "        vertical-align: middle;\n",
       "    }\n",
       "\n",
       "    .dataframe tbody tr th {\n",
       "        vertical-align: top;\n",
       "    }\n",
       "\n",
       "    .dataframe thead th {\n",
       "        text-align: right;\n",
       "    }\n",
       "</style>\n",
       "<table border=\"1\" class=\"dataframe\">\n",
       "  <thead>\n",
       "    <tr style=\"text-align: right;\">\n",
       "      <th></th>\n",
       "      <th>name</th>\n",
       "      <th>category_0</th>\n",
       "      <th>category_1</th>\n",
       "      <th>take_out</th>\n",
       "      <th>review_count</th>\n",
       "      <th>stars</th>\n",
       "      <th>city_id</th>\n",
       "      <th>state_id</th>\n",
       "    </tr>\n",
       "  </thead>\n",
       "  <tbody>\n",
       "    <tr>\n",
       "      <th>0</th>\n",
       "      <td>China Sea Chinese Restaurant</td>\n",
       "      <td>Restaurants</td>\n",
       "      <td>Chinese</td>\n",
       "      <td>True</td>\n",
       "      <td>11</td>\n",
       "      <td>2.5</td>\n",
       "      <td>1</td>\n",
       "      <td>1</td>\n",
       "    </tr>\n",
       "    <tr>\n",
       "      <th>1</th>\n",
       "      <td>Discount Tire Center</td>\n",
       "      <td>Tires</td>\n",
       "      <td>Automotive</td>\n",
       "      <td>False</td>\n",
       "      <td>24</td>\n",
       "      <td>4.5</td>\n",
       "      <td>1</td>\n",
       "      <td>1</td>\n",
       "    </tr>\n",
       "    <tr>\n",
       "      <th>2</th>\n",
       "      <td>Frankfurters</td>\n",
       "      <td>Restaurants</td>\n",
       "      <td>Hot Dogs</td>\n",
       "      <td>True</td>\n",
       "      <td>3</td>\n",
       "      <td>4.5</td>\n",
       "      <td>1</td>\n",
       "      <td>1</td>\n",
       "    </tr>\n",
       "    <tr>\n",
       "      <th>3</th>\n",
       "      <td>Fred Dietz Floral</td>\n",
       "      <td>Shopping</td>\n",
       "      <td>Flowers &amp; Gifts</td>\n",
       "      <td>False</td>\n",
       "      <td>6</td>\n",
       "      <td>4.0</td>\n",
       "      <td>1</td>\n",
       "      <td>1</td>\n",
       "    </tr>\n",
       "    <tr>\n",
       "      <th>4</th>\n",
       "      <td>Kuhn's Market</td>\n",
       "      <td>Food</td>\n",
       "      <td>Grocery</td>\n",
       "      <td>False</td>\n",
       "      <td>8</td>\n",
       "      <td>3.5</td>\n",
       "      <td>1</td>\n",
       "      <td>1</td>\n",
       "    </tr>\n",
       "    <tr>\n",
       "      <th>...</th>\n",
       "      <td>...</td>\n",
       "      <td>...</td>\n",
       "      <td>...</td>\n",
       "      <td>...</td>\n",
       "      <td>...</td>\n",
       "      <td>...</td>\n",
       "      <td>...</td>\n",
       "      <td>...</td>\n",
       "    </tr>\n",
       "    <tr>\n",
       "      <th>595</th>\n",
       "      <td>Republic Services of Southern Nevada Recycling...</td>\n",
       "      <td>Local Services</td>\n",
       "      <td>Recycling Center</td>\n",
       "      <td>False</td>\n",
       "      <td>7</td>\n",
       "      <td>2.5</td>\n",
       "      <td>13</td>\n",
       "      <td>2</td>\n",
       "    </tr>\n",
       "    <tr>\n",
       "      <th>596</th>\n",
       "      <td>SA Recycling</td>\n",
       "      <td>Local Services</td>\n",
       "      <td>Recycling Center</td>\n",
       "      <td>False</td>\n",
       "      <td>3</td>\n",
       "      <td>1.5</td>\n",
       "      <td>13</td>\n",
       "      <td>2</td>\n",
       "    </tr>\n",
       "    <tr>\n",
       "      <th>597</th>\n",
       "      <td>Jack In the Box</td>\n",
       "      <td>Restaurants</td>\n",
       "      <td>Fast Food</td>\n",
       "      <td>True</td>\n",
       "      <td>12</td>\n",
       "      <td>3.0</td>\n",
       "      <td>13</td>\n",
       "      <td>2</td>\n",
       "    </tr>\n",
       "    <tr>\n",
       "      <th>598</th>\n",
       "      <td>Custom Hearth &amp; Door</td>\n",
       "      <td>Shopping</td>\n",
       "      <td>Heating &amp; Air Conditioning/HVAC</td>\n",
       "      <td>False</td>\n",
       "      <td>9</td>\n",
       "      <td>4.0</td>\n",
       "      <td>13</td>\n",
       "      <td>2</td>\n",
       "    </tr>\n",
       "    <tr>\n",
       "      <th>599</th>\n",
       "      <td>A Sunrise Towing</td>\n",
       "      <td>Automotive</td>\n",
       "      <td>Towing</td>\n",
       "      <td>False</td>\n",
       "      <td>4</td>\n",
       "      <td>1.0</td>\n",
       "      <td>13</td>\n",
       "      <td>2</td>\n",
       "    </tr>\n",
       "  </tbody>\n",
       "</table>\n",
       "<p>600 rows × 8 columns</p>\n",
       "</div>"
      ],
      "text/plain": [
       "                                                  name      category_0  \\\n",
       "0                         China Sea Chinese Restaurant     Restaurants   \n",
       "1                                 Discount Tire Center           Tires   \n",
       "2                                         Frankfurters     Restaurants   \n",
       "3                                    Fred Dietz Floral        Shopping   \n",
       "4                                        Kuhn's Market            Food   \n",
       "..                                                 ...             ...   \n",
       "595  Republic Services of Southern Nevada Recycling...  Local Services   \n",
       "596                                       SA Recycling  Local Services   \n",
       "597                                    Jack In the Box     Restaurants   \n",
       "598                               Custom Hearth & Door        Shopping   \n",
       "599                                   A Sunrise Towing      Automotive   \n",
       "\n",
       "                          category_1  take_out  review_count  stars  city_id  \\\n",
       "0                            Chinese      True            11    2.5        1   \n",
       "1                         Automotive     False            24    4.5        1   \n",
       "2                           Hot Dogs      True             3    4.5        1   \n",
       "3                    Flowers & Gifts     False             6    4.0        1   \n",
       "4                            Grocery     False             8    3.5        1   \n",
       "..                               ...       ...           ...    ...      ...   \n",
       "595                 Recycling Center     False             7    2.5       13   \n",
       "596                 Recycling Center     False             3    1.5       13   \n",
       "597                        Fast Food      True            12    3.0       13   \n",
       "598  Heating & Air Conditioning/HVAC     False             9    4.0       13   \n",
       "599                           Towing     False             4    1.0       13   \n",
       "\n",
       "     state_id  \n",
       "0           1  \n",
       "1           1  \n",
       "2           1  \n",
       "3           1  \n",
       "4           1  \n",
       "..        ...  \n",
       "595         2  \n",
       "596         2  \n",
       "597         2  \n",
       "598         2  \n",
       "599         2  \n",
       "\n",
       "[600 rows x 8 columns]"
      ]
     },
     "execution_count": 3,
     "metadata": {},
     "output_type": "execute_result"
    }
   ],
   "source": [
    "import pandas as pd\n",
    "pd.read_excel(\"yelp.xlsx\")\n",
    "#this database has information about local businesses in 13 cities in Pennsylvania (PA) and Nevada (NV)"
   ]
  },
  {
   "cell_type": "code",
   "execution_count": 5,
   "id": "ea917335",
   "metadata": {},
   "outputs": [
    {
     "name": "stderr",
     "output_type": "stream",
     "text": [
      "C:\\Users\\user\\AppData\\Roaming\\Python\\Python310\\site-packages\\openpyxl\\worksheet\\_reader.py:312: UserWarning: Unknown extension is not supported and will be removed\n",
      "  warn(msg)\n"
     ]
    }
   ],
   "source": [
    "# Loading data- Pandas module\n",
    "\n",
    "xls = pd.ExcelFile('yelp.xlsx')\n",
    "df = xls.parse('yelp_data') # read the excel sheet data"
   ]
  },
  {
   "cell_type": "code",
   "execution_count": 7,
   "id": "be88a254",
   "metadata": {},
   "outputs": [
    {
     "name": "stdout",
     "output_type": "stream",
     "text": [
      "<class 'pandas.core.frame.DataFrame'>\n"
     ]
    }
   ],
   "source": [
    "print(type(df)) # type of object a dataframe is"
   ]
  },
  {
   "cell_type": "code",
   "execution_count": 8,
   "id": "f6bf2be6",
   "metadata": {},
   "outputs": [
    {
     "name": "stdout",
     "output_type": "stream",
     "text": [
      "600\n"
     ]
    }
   ],
   "source": [
    "print(len(df)) # length of the dataframe"
   ]
  },
  {
   "cell_type": "code",
   "execution_count": 9,
   "id": "13ec3f89",
   "metadata": {},
   "outputs": [
    {
     "name": "stdout",
     "output_type": "stream",
     "text": [
      "(600, 8)\n"
     ]
    }
   ],
   "source": [
    "print(df.shape) # the dimensions of the dataframe"
   ]
  },
  {
   "cell_type": "code",
   "execution_count": 11,
   "id": "c1e4cc3c",
   "metadata": {},
   "outputs": [
    {
     "name": "stdout",
     "output_type": "stream",
     "text": [
      "Index(['name', 'category_0', 'category_1', 'take_out', 'review_count', 'stars',\n",
      "       'city_id', 'state_id'],\n",
      "      dtype='object')\n"
     ]
    }
   ],
   "source": [
    "print(df.columns) # this will print out column headers by accessing the columns attribute"
   ]
  },
  {
   "cell_type": "code",
   "execution_count": 12,
   "id": "2046afb5",
   "metadata": {},
   "outputs": [
    {
     "name": "stdout",
     "output_type": "stream",
     "text": [
      "name             object\n",
      "category_0       object\n",
      "category_1       object\n",
      "take_out           bool\n",
      "review_count      int64\n",
      "stars           float64\n",
      "city_id           int64\n",
      "state_id          int64\n",
      "dtype: object\n"
     ]
    }
   ],
   "source": [
    "print(df.dtypes) # type of data stored in each column "
   ]
  },
  {
   "cell_type": "code",
   "execution_count": 13,
   "id": "c24155fb",
   "metadata": {},
   "outputs": [
    {
     "name": "stdout",
     "output_type": "stream",
     "text": [
      "       review_count       stars     city_id    state_id\n",
      "count    600.000000  600.000000  600.000000  600.000000\n",
      "mean      33.771667    3.495000    9.193333    1.500000\n",
      "std       86.901895    0.955596    2.997933    0.500417\n",
      "min        3.000000    1.000000    1.000000    1.000000\n",
      "25%        5.000000    3.000000    8.000000    1.000000\n",
      "50%       10.000000    3.500000   10.500000    1.500000\n",
      "75%       25.250000    4.000000   12.000000    2.000000\n",
      "max     1305.000000    5.000000   13.000000    2.000000\n"
     ]
    }
   ],
   "source": [
    "print(df.describe()) # provides various statistics to the dataframe"
   ]
  },
  {
   "cell_type": "code",
   "execution_count": 15,
   "id": "ad7dbb3b",
   "metadata": {},
   "outputs": [
    {
     "name": "stdout",
     "output_type": "stream",
     "text": [
      "                           name   category_0       category_1  take_out  \\\n",
      "0  China Sea Chinese Restaurant  Restaurants          Chinese      True   \n",
      "1          Discount Tire Center        Tires       Automotive     False   \n",
      "2                  Frankfurters  Restaurants         Hot Dogs      True   \n",
      "3             Fred Dietz Floral     Shopping  Flowers & Gifts     False   \n",
      "4                 Kuhn's Market         Food          Grocery     False   \n",
      "\n",
      "   review_count  stars  city_id  state_id  \n",
      "0            11    2.5        1         1  \n",
      "1            24    4.5        1         1  \n",
      "2             3    4.5        1         1  \n",
      "3             6    4.0        1         1  \n",
      "4             8    3.5        1         1  \n",
      "                            name                    category_0  \\\n",
      "0   China Sea Chinese Restaurant                   Restaurants   \n",
      "1           Discount Tire Center                         Tires   \n",
      "2                   Frankfurters                   Restaurants   \n",
      "3              Fred Dietz Floral                      Shopping   \n",
      "4                  Kuhn's Market                          Food   \n",
      "5                 Lincoln Bakery                          Food   \n",
      "6               Luigi's Pizzeria                   Restaurants   \n",
      "7     Mane Attractions Unlimited                   Hair Salons   \n",
      "8            R & B's Pizza Place                   Restaurants   \n",
      "9                     Rusty Nail                   Restaurants   \n",
      "10                    Star Nails                 Beauty & Spas   \n",
      "11                          Vivo                   Restaurants   \n",
      "12                 Emil's Lounge                          Bars   \n",
      "13          Grand View Golf Club                   Active Life   \n",
      "14            Advance Auto Parts                    Automotive   \n",
      "15         Alexion's Bar & Grill                          Bars   \n",
      "16              Alteration World                Local Services   \n",
      "17                      Amerifit                   Active Life   \n",
      "18  Barb's Country Junction Cafe                   Restaurants   \n",
      "19         Carnegie Free Library  Public Services & Government   \n",
      "\n",
      "                category_1  take_out  review_count  stars  city_id  state_id  \n",
      "0                  Chinese      True            11    2.5        1         1  \n",
      "1               Automotive     False            24    4.5        1         1  \n",
      "2                 Hot Dogs      True             3    4.5        1         1  \n",
      "3          Flowers & Gifts     False             6    4.0        1         1  \n",
      "4                  Grocery     False             8    3.5        1         1  \n",
      "5                 Bakeries      True            25    4.0        1         1  \n",
      "6                    Pizza      True            18    4.0        1         1  \n",
      "7            Beauty & Spas     False             4    3.0        1         1  \n",
      "8                    Pizza      True            17    4.0        1         1  \n",
      "9   American (Traditional)      True            32    3.5        1         1  \n",
      "10             Nail Salons     False             7    2.5        1         1  \n",
      "11                 Italian     False             3    5.0        1         1  \n",
      "12          American (New)      True            26    4.5        2         1  \n",
      "13                    Golf     False             3    5.0        2         1  \n",
      "14   Auto Parts & Supplies     False             3    3.5        3         1  \n",
      "15  American (Traditional)      True            23    4.0        3         1  \n",
      "16    Sewing & Alterations     False            10    4.5        3         1  \n",
      "17                  Boxing     False             8    3.0        3         1  \n",
      "18                   Cafes      True             9    4.0        3         1  \n",
      "19               Libraries     False             4    4.5        3         1  \n"
     ]
    }
   ],
   "source": [
    "print(df.head()) #describes the first 5 rows as a default value in the dataframe \n",
    "print(df.head(20)) # The input argument will provide the given number of rows in the dataframe "
   ]
  },
  {
   "cell_type": "code",
   "execution_count": 18,
   "id": "78a43572",
   "metadata": {},
   "outputs": [],
   "source": [
    "df = df.drop_duplicates() # this will delete the repetitive common data found in all rows\n",
    "df = df.drop_duplicates(subset = ['name']) # this will delete repetitive or common data found in particular column "
   ]
  },
  {
   "cell_type": "code",
   "execution_count": 17,
   "id": "42925428",
   "metadata": {},
   "outputs": [
    {
     "name": "stdout",
     "output_type": "stream",
     "text": [
      "                                                  name      category_0  \\\n",
      "0                         China Sea Chinese Restaurant     Restaurants   \n",
      "1                                 Discount Tire Center           Tires   \n",
      "2                                         Frankfurters     Restaurants   \n",
      "3                                    Fred Dietz Floral        Shopping   \n",
      "4                                        Kuhn's Market            Food   \n",
      "..                                                 ...             ...   \n",
      "595  Republic Services of Southern Nevada Recycling...  Local Services   \n",
      "596                                       SA Recycling  Local Services   \n",
      "597                                    Jack In the Box     Restaurants   \n",
      "598                               Custom Hearth & Door        Shopping   \n",
      "599                                   A Sunrise Towing      Automotive   \n",
      "\n",
      "                          category_1  take_out  review_count  stars  city_id  \\\n",
      "0                            Chinese      True            11    2.5        1   \n",
      "1                         Automotive     False            24    4.5        1   \n",
      "2                           Hot Dogs      True             3    4.5        1   \n",
      "3                    Flowers & Gifts     False             6    4.0        1   \n",
      "4                            Grocery     False             8    3.5        1   \n",
      "..                               ...       ...           ...    ...      ...   \n",
      "595                 Recycling Center     False             7    2.5       13   \n",
      "596                 Recycling Center     False             3    1.5       13   \n",
      "597                        Fast Food      True            12    3.0       13   \n",
      "598  Heating & Air Conditioning/HVAC     False             9    4.0       13   \n",
      "599                           Towing     False             4    1.0       13   \n",
      "\n",
      "     state_id  \n",
      "0           1  \n",
      "1           1  \n",
      "2           1  \n",
      "3           1  \n",
      "4           1  \n",
      "..        ...  \n",
      "595         2  \n",
      "596         2  \n",
      "597         2  \n",
      "598         2  \n",
      "599         2  \n",
      "\n",
      "[600 rows x 8 columns]\n"
     ]
    }
   ],
   "source": [
    "print(df)"
   ]
  },
  {
   "cell_type": "code",
   "execution_count": 20,
   "id": "0989b376",
   "metadata": {},
   "outputs": [
    {
     "name": "stdout",
     "output_type": "stream",
     "text": [
      "0                           China Sea Chinese Restaurant\n",
      "1                                   Discount Tire Center\n",
      "2                                           Frankfurters\n",
      "3                                      Fred Dietz Floral\n",
      "4                                          Kuhn's Market\n",
      "                             ...                        \n",
      "594                                       Domino's Pizza\n",
      "595    Republic Services of Southern Nevada Recycling...\n",
      "596                                         SA Recycling\n",
      "598                                 Custom Hearth & Door\n",
      "599                                     A Sunrise Towing\n",
      "Name: name, Length: 566, dtype: object\n"
     ]
    }
   ],
   "source": [
    "# querying data\n",
    "# To only the selec the name of the data, we must specify\n",
    "\n",
    "pandas_names = df['name']\n",
    "print(pandas_names)\n",
    "# this will print out the names present in the data set"
   ]
  },
  {
   "cell_type": "code",
   "execution_count": 22,
   "id": "80b64123",
   "metadata": {},
   "outputs": [
    {
     "data": {
      "text/html": [
       "<div>\n",
       "<style scoped>\n",
       "    .dataframe tbody tr th:only-of-type {\n",
       "        vertical-align: middle;\n",
       "    }\n",
       "\n",
       "    .dataframe tbody tr th {\n",
       "        vertical-align: top;\n",
       "    }\n",
       "\n",
       "    .dataframe thead th {\n",
       "        text-align: right;\n",
       "    }\n",
       "</style>\n",
       "<table border=\"1\" class=\"dataframe\">\n",
       "  <thead>\n",
       "    <tr style=\"text-align: right;\">\n",
       "      <th></th>\n",
       "      <th>name</th>\n",
       "      <th>city_id</th>\n",
       "      <th>state_id</th>\n",
       "    </tr>\n",
       "  </thead>\n",
       "  <tbody>\n",
       "    <tr>\n",
       "      <th>0</th>\n",
       "      <td>China Sea Chinese Restaurant</td>\n",
       "      <td>1</td>\n",
       "      <td>1</td>\n",
       "    </tr>\n",
       "    <tr>\n",
       "      <th>1</th>\n",
       "      <td>Discount Tire Center</td>\n",
       "      <td>1</td>\n",
       "      <td>1</td>\n",
       "    </tr>\n",
       "    <tr>\n",
       "      <th>2</th>\n",
       "      <td>Frankfurters</td>\n",
       "      <td>1</td>\n",
       "      <td>1</td>\n",
       "    </tr>\n",
       "    <tr>\n",
       "      <th>3</th>\n",
       "      <td>Fred Dietz Floral</td>\n",
       "      <td>1</td>\n",
       "      <td>1</td>\n",
       "    </tr>\n",
       "    <tr>\n",
       "      <th>4</th>\n",
       "      <td>Kuhn's Market</td>\n",
       "      <td>1</td>\n",
       "      <td>1</td>\n",
       "    </tr>\n",
       "    <tr>\n",
       "      <th>...</th>\n",
       "      <td>...</td>\n",
       "      <td>...</td>\n",
       "      <td>...</td>\n",
       "    </tr>\n",
       "    <tr>\n",
       "      <th>96</th>\n",
       "      <td>Animal Rescue League Shelter &amp; Wildlife Center</td>\n",
       "      <td>8</td>\n",
       "      <td>1</td>\n",
       "    </tr>\n",
       "    <tr>\n",
       "      <th>97</th>\n",
       "      <td>Aracri's Greentree Inn</td>\n",
       "      <td>8</td>\n",
       "      <td>1</td>\n",
       "    </tr>\n",
       "    <tr>\n",
       "      <th>98</th>\n",
       "      <td>Atch-Mont Real Estate</td>\n",
       "      <td>8</td>\n",
       "      <td>1</td>\n",
       "    </tr>\n",
       "    <tr>\n",
       "      <th>99</th>\n",
       "      <td>Atria's Restaurant</td>\n",
       "      <td>8</td>\n",
       "      <td>1</td>\n",
       "    </tr>\n",
       "    <tr>\n",
       "      <th>100</th>\n",
       "      <td>Au Bon Pain Co</td>\n",
       "      <td>8</td>\n",
       "      <td>1</td>\n",
       "    </tr>\n",
       "  </tbody>\n",
       "</table>\n",
       "<p>100 rows × 3 columns</p>\n",
       "</div>"
      ],
      "text/plain": [
       "                                               name  city_id  state_id\n",
       "0                      China Sea Chinese Restaurant        1         1\n",
       "1                              Discount Tire Center        1         1\n",
       "2                                      Frankfurters        1         1\n",
       "3                                 Fred Dietz Floral        1         1\n",
       "4                                     Kuhn's Market        1         1\n",
       "..                                              ...      ...       ...\n",
       "96   Animal Rescue League Shelter & Wildlife Center        8         1\n",
       "97                           Aracri's Greentree Inn        8         1\n",
       "98                            Atch-Mont Real Estate        8         1\n",
       "99                               Atria's Restaurant        8         1\n",
       "100                                  Au Bon Pain Co        8         1\n",
       "\n",
       "[100 rows x 3 columns]"
      ]
     },
     "execution_count": 22,
     "metadata": {},
     "output_type": "execute_result"
    }
   ],
   "source": [
    "#query the location of the first 100 businesses\n",
    "atts =['name','city_id','state_id'] \n",
    "df[atts].head(100)\n",
    "# but this only shows id  for each city and state but we want to see the actual cities and states.\n",
    "# We need to joint this data to other data sets\n"
   ]
  },
  {
   "cell_type": "markdown",
   "id": "052c20c7",
   "metadata": {},
   "source": [
    "# Loading, Inspecting and Querying Data"
   ]
  },
  {
   "cell_type": "code",
   "execution_count": null,
   "id": "395b0079",
   "metadata": {},
   "outputs": [],
   "source": []
  }
 ],
 "metadata": {
  "kernelspec": {
   "display_name": "Python 3 (ipykernel)",
   "language": "python",
   "name": "python3"
  },
  "language_info": {
   "codemirror_mode": {
    "name": "ipython",
    "version": 3
   },
   "file_extension": ".py",
   "mimetype": "text/x-python",
   "name": "python",
   "nbconvert_exporter": "python",
   "pygments_lexer": "ipython3",
   "version": "3.10.2"
  }
 },
 "nbformat": 4,
 "nbformat_minor": 5
}
